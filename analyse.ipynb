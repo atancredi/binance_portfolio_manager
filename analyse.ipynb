{
 "cells": [
  {
   "cell_type": "code",
   "execution_count": 1,
   "metadata": {},
   "outputs": [],
   "source": [
    "from tinydb import TinyDB, Query"
   ]
  },
  {
   "cell_type": "code",
   "execution_count": 2,
   "metadata": {},
   "outputs": [
    {
     "data": {
      "text/plain": [
       "[{'pair': 'FETUSDT',\n",
       "  'quantity': 23.0,\n",
       "  'price': '0.65290000',\n",
       "  'timestamp': '2023-12-17T01:44:49Z',\n",
       "  'order_type': 'buy'},\n",
       " {'pair': 'AGIXUSDT',\n",
       "  'quantity': 23.0,\n",
       "  'price': '0.33385000',\n",
       "  'timestamp': '2023-12-17T01:44:49Z',\n",
       "  'order_type': 'buy'},\n",
       " {'pair': 'AGIXUSDT',\n",
       "  'quantity': 52.0,\n",
       "  'price': '0.33387000',\n",
       "  'timestamp': '2023-12-17T01:44:49Z',\n",
       "  'order_type': 'buy'},\n",
       " {'pair': 'NMRUSDT',\n",
       "  'quantity': 0.31,\n",
       "  'price': '16.48000000',\n",
       "  'timestamp': '2023-12-17T01:44:49Z',\n",
       "  'order_type': 'buy'},\n",
       " {'pair': 'MDTUSDT',\n",
       "  'quantity': 88.1,\n",
       "  'price': '0.05795000',\n",
       "  'timestamp': '2023-12-17T01:44:49Z',\n",
       "  'order_type': 'buy'}]"
      ]
     },
     "execution_count": 2,
     "metadata": {},
     "output_type": "execute_result"
    }
   ],
   "source": [
    "db = TinyDB(\"rebalancing_order.json\")\n",
    "\n",
    "db.all()"
   ]
  },
  {
   "cell_type": "code",
   "execution_count": null,
   "metadata": {},
   "outputs": [],
   "source": []
  }
 ],
 "metadata": {
  "kernelspec": {
   "display_name": "binance",
   "language": "python",
   "name": "python3"
  },
  "language_info": {
   "codemirror_mode": {
    "name": "ipython",
    "version": 3
   },
   "file_extension": ".py",
   "mimetype": "text/x-python",
   "name": "python",
   "nbconvert_exporter": "python",
   "pygments_lexer": "ipython3",
   "version": "3.10.6"
  }
 },
 "nbformat": 4,
 "nbformat_minor": 2
}
